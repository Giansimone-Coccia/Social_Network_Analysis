{
 "cells": [
  {
   "cell_type": "markdown",
   "metadata": {},
   "source": [
    "### Preprocessing e impostazione della rete"
   ]
  },
  {
   "cell_type": "markdown",
   "metadata": {},
   "source": [
    "#### Inserimento dei pesi e rimozione colonna \"type\""
   ]
  },
  {
   "cell_type": "code",
   "execution_count": 5,
   "metadata": {},
   "outputs": [
    {
     "name": "stdout",
     "output_type": "stream",
     "text": [
      "   source  target relation_detail  weight\n",
      "0       0       1          family       3\n",
      "1       0      25          family       3\n",
      "2       0      45          family       3\n",
      "3       1       0          family       3\n",
      "4       1      11          family       3\n"
     ]
    }
   ],
   "source": [
    "import pandas as pd\n",
    "\n",
    "# Caricare i file CSV\n",
    "characters_df = pd.read_csv('Data/characters.csv')  # Carica il file CSV dei personaggi\n",
    "relations_df = pd.read_csv('Data/relations.csv')  # Carica il file CSV delle relazioni\n",
    "\n",
    "# Parole chiave per le relazioni familiari\n",
    "family_keywords = ['brother', 'sister', 'father', 'mother', 'son', 'daughter', 'cousin']\n",
    "\n",
    "# Creiamo un dizionario per le biografie dei personaggi\n",
    "character_bio = characters_df.set_index('id')['bio'].to_dict()\n",
    "\n",
    "# Funzione per classificare le relazioni\n",
    "def classify_relation(row):\n",
    "    source_bio = character_bio.get(row['source'], \"\").lower()\n",
    "    target_bio = character_bio.get(row['target'], \"\").lower()\n",
    "    \n",
    "    # Verifica se ci sono relazioni familiari\n",
    "    if any(keyword in source_bio for keyword in family_keywords) or any(keyword in target_bio for keyword in family_keywords):\n",
    "        return 'family'\n",
    "    # Altri tipi di relazione\n",
    "    elif row['type'] == '+':\n",
    "        return 'friendship'  # Amicizia\n",
    "    elif row['type'] == '-':\n",
    "        return 'enmity'  # Nemici\n",
    "    return 'neutral'  # Relazione neutrale\n",
    "\n",
    "# Applicare la funzione di classificazione delle relazioni\n",
    "relations_df['relation_detail'] = relations_df.apply(classify_relation, axis=1)\n",
    "\n",
    "# Mappare i pesi per ogni tipo di relazione\n",
    "weights = {\n",
    "    'family': 3,\n",
    "    'friendship': 2,\n",
    "    'alliance': 1,\n",
    "    'enmity': -3,\n",
    "    'neutral': 0,\n",
    "}\n",
    "relations_df['weight'] = relations_df['relation_detail'].map(weights)\n",
    "\n",
    "# Rimuovere la colonna \"type\"\n",
    "relations_df = relations_df.drop(columns=['type'])\n",
    "\n",
    "# Salvare il DataFrame aggiornato in un nuovo file CSV\n",
    "relations_df.to_csv('Data/relations_with_details.csv', index=False)\n",
    "\n",
    "# Visualizzare i primi risultati\n",
    "print(relations_df.head())"
   ]
  },
  {
   "cell_type": "markdown",
   "metadata": {},
   "source": [
    "#### Unione dei dataset"
   ]
  },
  {
   "cell_type": "markdown",
   "metadata": {},
   "source": [
    "Vedere se è utile avere uno unico (alcuni dati si ripetono)"
   ]
  },
  {
   "cell_type": "code",
   "execution_count": 6,
   "metadata": {},
   "outputs": [
    {
     "name": "stdout",
     "output_type": "stream",
     "text": [
      "   source  target relation_detail  weight             source_name  \\\n",
      "0       0       1          family       3  Regulus Arcturus Black   \n",
      "1       0      25          family       3  Regulus Arcturus Black   \n",
      "2       0      45          family       3  Regulus Arcturus Black   \n",
      "3       1       0          family       3            Sirius Black   \n",
      "4       1      11          family       3            Sirius Black   \n",
      "\n",
      "                                          source_bio             target_name  \\\n",
      "0  Brother of Sirius. Used to be a Death Eater bu...            Sirius Black   \n",
      "1  Brother of Sirius. Used to be a Death Eater bu...     Bellatrix Lestrange   \n",
      "2  Brother of Sirius. Used to be a Death Eater bu...          Lord Voldemort   \n",
      "3  Best friend of James Potter and godfather of H...  Regulus Arcturus Black   \n",
      "4  Best friend of James Potter and godfather of H...        Albus Dumbledore   \n",
      "\n",
      "                                          target_bio  \n",
      "0  Best friend of James Potter and godfather of H...  \n",
      "1       Death Eater who was killed by Molly Weasley.  \n",
      "2    The antagonist of the series who murdered many.  \n",
      "3  Brother of Sirius. Used to be a Death Eater bu...  \n",
      "4            Headmaster of Hogwards killed by Snape.  \n"
     ]
    }
   ],
   "source": [
    "import pandas as pd\n",
    "\n",
    "# Carica i file CSV\n",
    "relations_df = pd.read_csv('Data/relations_with_details.csv')  # Relazioni con dettagli\n",
    "characters_df = pd.read_csv('Data/characters.csv')  # Personaggi\n",
    "\n",
    "# Unire le informazioni sui personaggi per il 'source' (personaggio di partenza)\n",
    "relations_df = relations_df.merge(characters_df[['id', 'name', 'bio']], how='left', left_on='source', right_on='id')\n",
    "relations_df = relations_df.rename(columns={'name': 'source_name', 'bio': 'source_bio'})\n",
    "\n",
    "# Unire le informazioni sui personaggi per il 'target' (personaggio di arrivo)\n",
    "relations_df = relations_df.merge(characters_df[['id', 'name', 'bio']], how='left', left_on='target', right_on='id')\n",
    "relations_df = relations_df.rename(columns={'name': 'target_name', 'bio': 'target_bio'})\n",
    "\n",
    "# Rimuovere le colonne temporanee 'id' usate per il merge\n",
    "relations_df = relations_df.drop(columns=['id_x', 'id_y'])\n",
    "\n",
    "# Salvare il DataFrame combinato in un nuovo file CSV\n",
    "relations_df.to_csv('Data/combined_relations.csv', index=False)\n",
    "\n",
    "# Visualizzare i primi risultati\n",
    "print(relations_df.head())"
   ]
  }
 ],
 "metadata": {
  "kernelspec": {
   "display_name": "Python 3",
   "language": "python",
   "name": "python3"
  },
  "language_info": {
   "codemirror_mode": {
    "name": "ipython",
    "version": 3
   },
   "file_extension": ".py",
   "mimetype": "text/x-python",
   "name": "python",
   "nbconvert_exporter": "python",
   "pygments_lexer": "ipython3",
   "version": "3.11.9"
  }
 },
 "nbformat": 4,
 "nbformat_minor": 2
}
